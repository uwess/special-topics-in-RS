{
 "cells": [
  {
   "cell_type": "markdown",
   "metadata": {},
   "source": [
    "# Special topics in RS"
   ]
  },
  {
   "cell_type": "markdown",
   "metadata": {},
   "source": [
    "# Analysing the Changes of Lake Water Extent Using Remote Sensing \n",
    "- Lake in 1997, 2013 and 2020 were analyzed and interpreted with remote sensing data. For this, images of three years were obtained from Landsat 5 TM and Landsat 8 OLI / TIRS satellites.\n",
    "-  NDVI was used to monitor the changes in water areas during the analysis phase. The images obtained as a result were classified and the area of the water areas was calculated."
   ]
  },
  {
   "cell_type": "markdown",
   "metadata": {},
   "source": [
    "# DATA SET\n",
    "- 20 JULY 1997\n",
    " ![3](Image/1.png)\n",
    "- LANDSAT 5 TM\n",
    "\n",
    "- 17 AUGUST 2013\n",
    " ![3](Image/2.png)\n",
    "- LANDSAT 5 TM\n",
    "\n",
    "- 4 AUGUST 2020\n",
    " ![3](Image/3.png)\n",
    "- LANDSAT 8 OLI/TIRS"
   ]
  },
  {
   "cell_type": "markdown",
   "metadata": {},
   "source": [
    "# 1997\n",
    "- NDVI\n",
    " ![4](Image/4.png)\n",
    "- ACCURACY ASSESSMENT\n",
    " ![5](Image/5.png)\n",
    " ![6](Image/6.png)"
   ]
  },
  {
   "cell_type": "markdown",
   "metadata": {},
   "source": [
    "# 2013\n",
    "- NDVI\n",
    " ![7](Image/7.png)\n",
    "- ACCURACY ASSESSMENT\n",
    " ![8](Image/8.png)\n",
    " ![9](Image/9.png)"
   ]
  },
  {
   "cell_type": "markdown",
   "metadata": {},
   "source": [
    "# 2020\n",
    "- NDVI\n",
    " ![10](Image/10.png)\n",
    "- ACCURACY ASSESSMENT\n",
    " ![11](Image/11.png)\n",
    " ![12](Image/12.png)"
   ]
  },
  {
   "cell_type": "markdown",
   "metadata": {},
   "source": [
    " # RESULT\n",
    " While comparing the results with the areas between the indexes in 1997 and 2013, NDVI was not that accurate and another operation should have been applied instead, while in 2020, NDVI gave the most accurate result."
   ]
  }
 ],
 "metadata": {
  "kernelspec": {
   "display_name": "Python 3",
   "language": "python",
   "name": "python3"
  },
  "language_info": {
   "codemirror_mode": {
    "name": "ipython",
    "version": 3
   },
   "file_extension": ".py",
   "mimetype": "text/x-python",
   "name": "python",
   "nbconvert_exporter": "python",
   "pygments_lexer": "ipython3",
   "version": "3.8.5"
  }
 },
 "nbformat": 4,
 "nbformat_minor": 4
}
